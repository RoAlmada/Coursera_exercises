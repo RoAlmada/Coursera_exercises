{
 "cells": [
  {
   "cell_type": "markdown",
   "id": "26681f1b",
   "metadata": {},
   "source": [
    "# Data Science Tools and Ecosystem"
   ]
  },
  {
   "cell_type": "markdown",
   "id": "ff50b9eb",
   "metadata": {},
   "source": [
    "In this notebook, Data Science Tools and Ecosystem are summarized."
   ]
  },
  {
   "cell_type": "markdown",
   "id": "7fd4aa8f",
   "metadata": {},
   "source": [
    "## Objectives\n",
    "\n",
    "**In this notebook, we covered the following key takeaways from the course:**\n",
    "\n",
    "- List popular languages for Data Science.\n",
    "- Explore essential libraries used in Data Science, such as NumPy, Pandas, and Matplotlib.\n",
    "- Understand basic mathematical expressions and LaTeX formatting in Markdown cells.\n",
    "- Introduce key concepts in machine learning and deep learning frameworks, like scikit-learn, TensorFlow, and PyTorch.\n",
    "- Discuss data visualization techniques and tools like Matplotlib and Seaborn.\n",
    "\n",
    "These objectives provide a solid foundation for getting started with Data Science and understanding the fundamental tools and concepts in the field."
   ]
  },
  {
   "cell_type": "markdown",
   "id": "a7ea5f4f",
   "metadata": {},
   "source": [
    "Some of the popular languages that Data Scientists use are:"
   ]
  },
  {
   "cell_type": "markdown",
   "id": "55442263",
   "metadata": {},
   "source": [
    "1. Python\n",
    "2. R\n",
    "3. Julia"
   ]
  },
  {
   "cell_type": "markdown",
   "id": "bacd0ff2",
   "metadata": {},
   "source": [
    "Some of the commonly used libraries used by Data Scientists include:"
   ]
  },
  {
   "cell_type": "markdown",
   "id": "c7434003",
   "metadata": {},
   "source": [
    "- **NumPy**: Provides support for efficient numerical operations and multi-dimensional arrays.\n",
    "- **Pandas**: Offers data manipulation and analysis tools through its DataFrame and Series structures.\n",
    "- **Matplotlib**: A plotting library for creating static, animated, and interactive visualizations.\n",
    "- **Seaborn**: Built on top of Matplotlib, Seaborn provides a high-level interface for statistical data visualization.\n"
   ]
  },
  {
   "cell_type": "markdown",
   "id": "58e7044d",
   "metadata": {},
   "source": [
    "## Data Science Tools"
   ]
  },
  {
   "cell_type": "markdown",
   "id": "eaea3c03",
   "metadata": {},
   "source": [
    "First option:"
   ]
  },
  {
   "cell_type": "code",
   "execution_count": 47,
   "id": "417d54f1",
   "metadata": {},
   "outputs": [],
   "source": [
    "import pandas as pd"
   ]
  },
  {
   "cell_type": "code",
   "execution_count": 48,
   "id": "5bb6458e",
   "metadata": {},
   "outputs": [],
   "source": [
    "list= ['Jupyter Notebook', 'Jupyter Lab', 'RStudio', 'Watson Studio']"
   ]
  },
  {
   "cell_type": "code",
   "execution_count": 49,
   "id": "b1ef5bb9",
   "metadata": {},
   "outputs": [],
   "source": [
    "table = pd.DataFrame()"
   ]
  },
  {
   "cell_type": "code",
   "execution_count": 50,
   "id": "6c3c7986",
   "metadata": {},
   "outputs": [],
   "source": [
    "table['DS Tools'] = list"
   ]
  },
  {
   "cell_type": "code",
   "execution_count": 51,
   "id": "b96ad3e4",
   "metadata": {},
   "outputs": [
    {
     "data": {
      "text/html": [
       "<div>\n",
       "<style scoped>\n",
       "    .dataframe tbody tr th:only-of-type {\n",
       "        vertical-align: middle;\n",
       "    }\n",
       "\n",
       "    .dataframe tbody tr th {\n",
       "        vertical-align: top;\n",
       "    }\n",
       "\n",
       "    .dataframe thead th {\n",
       "        text-align: right;\n",
       "    }\n",
       "</style>\n",
       "<table border=\"1\" class=\"dataframe\">\n",
       "  <thead>\n",
       "    <tr style=\"text-align: right;\">\n",
       "      <th></th>\n",
       "      <th>DS Tools</th>\n",
       "    </tr>\n",
       "  </thead>\n",
       "  <tbody>\n",
       "    <tr>\n",
       "      <th>0</th>\n",
       "      <td>Jupyter Notebook</td>\n",
       "    </tr>\n",
       "    <tr>\n",
       "      <th>1</th>\n",
       "      <td>Jupyter Lab</td>\n",
       "    </tr>\n",
       "    <tr>\n",
       "      <th>2</th>\n",
       "      <td>RStudio</td>\n",
       "    </tr>\n",
       "    <tr>\n",
       "      <th>3</th>\n",
       "      <td>Watson Studio</td>\n",
       "    </tr>\n",
       "  </tbody>\n",
       "</table>\n",
       "</div>"
      ],
      "text/plain": [
       "           DS Tools\n",
       "0  Jupyter Notebook\n",
       "1       Jupyter Lab\n",
       "2           RStudio\n",
       "3     Watson Studio"
      ]
     },
     "execution_count": 51,
     "metadata": {},
     "output_type": "execute_result"
    }
   ],
   "source": [
    "table"
   ]
  },
  {
   "cell_type": "markdown",
   "id": "a9096d5e",
   "metadata": {},
   "source": [
    "Second option:"
   ]
  },
  {
   "cell_type": "markdown",
   "id": "1f2b916c",
   "metadata": {},
   "source": [
    "|Data Science Tools| \n",
    "|-----| \n",
    "|Jupyter Notebook| \n",
    "|Jupyter Lab | \n",
    "| RStudio | "
   ]
  },
  {
   "cell_type": "markdown",
   "id": "830ac506",
   "metadata": {},
   "source": [
    "Below are a few examples of evaluating arithmetic expressions in Python"
   ]
  },
  {
   "cell_type": "markdown",
   "id": "bc92e481",
   "metadata": {},
   "source": [
    "The sum of the first $n$ natural numbers can be expressed as $\\sum_{i=1}^{n} i = \\frac{n(n+1)}{2}$."
   ]
  },
  {
   "cell_type": "markdown",
   "id": "87615e94",
   "metadata": {},
   "source": [
    "The formula for the area of a circle is $A = \\pi r^2$, where $r$ is the radius."
   ]
  },
  {
   "cell_type": "code",
   "execution_count": 57,
   "id": "ccc7e2f3",
   "metadata": {},
   "outputs": [],
   "source": [
    "##This a simple arithmetic expression to mutiply then add integers"
   ]
  },
  {
   "cell_type": "code",
   "execution_count": 58,
   "id": "bac323dc",
   "metadata": {},
   "outputs": [
    {
     "data": {
      "text/plain": [
       "17"
      ]
     },
     "execution_count": 58,
     "metadata": {},
     "output_type": "execute_result"
    }
   ],
   "source": [
    "(3*4)+5"
   ]
  },
  {
   "cell_type": "code",
   "execution_count": 59,
   "id": "0280f921",
   "metadata": {},
   "outputs": [],
   "source": [
    "##This will convert 200 minutes to hours by diving by 60"
   ]
  },
  {
   "cell_type": "code",
   "execution_count": 60,
   "id": "e8ce1188",
   "metadata": {},
   "outputs": [],
   "source": [
    "minutes = 200"
   ]
  },
  {
   "cell_type": "code",
   "execution_count": 61,
   "id": "353c4264",
   "metadata": {},
   "outputs": [
    {
     "data": {
      "text/plain": [
       "3.3333333333333335"
      ]
     },
     "execution_count": 61,
     "metadata": {},
     "output_type": "execute_result"
    }
   ],
   "source": [
    "hours = (minutes/60)\n",
    "hours"
   ]
  },
  {
   "cell_type": "markdown",
   "id": "f583a835",
   "metadata": {},
   "source": [
    "## Author"
   ]
  },
  {
   "cell_type": "markdown",
   "id": "329a0915",
   "metadata": {},
   "source": [
    "Rocio Almada"
   ]
  },
  {
   "cell_type": "code",
   "execution_count": null,
   "id": "b43fdaf9",
   "metadata": {},
   "outputs": [],
   "source": []
  }
 ],
 "metadata": {
  "kernelspec": {
   "display_name": "Python 3 (ipykernel)",
   "language": "python",
   "name": "python3"
  },
  "language_info": {
   "codemirror_mode": {
    "name": "ipython",
    "version": 3
   },
   "file_extension": ".py",
   "mimetype": "text/x-python",
   "name": "python",
   "nbconvert_exporter": "python",
   "pygments_lexer": "ipython3",
   "version": "3.10.9"
  }
 },
 "nbformat": 4,
 "nbformat_minor": 5
}
